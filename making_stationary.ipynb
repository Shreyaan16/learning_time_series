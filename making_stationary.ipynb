{
 "cells": [
  {
   "cell_type": "code",
   "execution_count": 2,
   "id": "5aec1d5c",
   "metadata": {},
   "outputs": [
    {
     "name": "stderr",
     "output_type": "stream",
     "text": [
      "[*********************100%***********************]  1 of 1 completed\n"
     ]
    },
    {
     "data": {
      "text/html": [
       "<div>\n",
       "<style scoped>\n",
       "    .dataframe tbody tr th:only-of-type {\n",
       "        vertical-align: middle;\n",
       "    }\n",
       "\n",
       "    .dataframe tbody tr th {\n",
       "        vertical-align: top;\n",
       "    }\n",
       "\n",
       "    .dataframe thead th {\n",
       "        text-align: right;\n",
       "    }\n",
       "</style>\n",
       "<table border=\"1\" class=\"dataframe\">\n",
       "  <thead>\n",
       "    <tr style=\"text-align: right;\">\n",
       "      <th>Price</th>\n",
       "      <th>Open</th>\n",
       "      <th>High</th>\n",
       "      <th>Low</th>\n",
       "      <th>Close</th>\n",
       "      <th>Volume</th>\n",
       "    </tr>\n",
       "    <tr>\n",
       "      <th>Date</th>\n",
       "      <th></th>\n",
       "      <th></th>\n",
       "      <th></th>\n",
       "      <th></th>\n",
       "      <th></th>\n",
       "    </tr>\n",
       "  </thead>\n",
       "  <tbody>\n",
       "    <tr>\n",
       "      <th>2025-01-02</th>\n",
       "      <td>218.895348</td>\n",
       "      <td>219.556512</td>\n",
       "      <td>214.730987</td>\n",
       "      <td>217.040131</td>\n",
       "      <td>2579500</td>\n",
       "    </tr>\n",
       "    <tr>\n",
       "      <th>2025-01-03</th>\n",
       "      <td>217.642083</td>\n",
       "      <td>220.711079</td>\n",
       "      <td>217.642083</td>\n",
       "      <td>219.714386</td>\n",
       "      <td>3872100</td>\n",
       "    </tr>\n",
       "    <tr>\n",
       "      <th>2025-01-06</th>\n",
       "      <td>220.059782</td>\n",
       "      <td>221.391988</td>\n",
       "      <td>217.839448</td>\n",
       "      <td>219.734131</td>\n",
       "      <td>2846700</td>\n",
       "    </tr>\n",
       "    <tr>\n",
       "      <th>2025-01-07</th>\n",
       "      <td>220.405168</td>\n",
       "      <td>223.720867</td>\n",
       "      <td>219.892020</td>\n",
       "      <td>221.007126</td>\n",
       "      <td>3299300</td>\n",
       "    </tr>\n",
       "    <tr>\n",
       "      <th>2025-01-08</th>\n",
       "      <td>220.957782</td>\n",
       "      <td>221.934719</td>\n",
       "      <td>217.918390</td>\n",
       "      <td>220.237396</td>\n",
       "      <td>2619800</td>\n",
       "    </tr>\n",
       "  </tbody>\n",
       "</table>\n",
       "</div>"
      ],
      "text/plain": [
       "Price             Open        High         Low       Close   Volume\n",
       "Date                                                               \n",
       "2025-01-02  218.895348  219.556512  214.730987  217.040131  2579500\n",
       "2025-01-03  217.642083  220.711079  217.642083  219.714386  3872100\n",
       "2025-01-06  220.059782  221.391988  217.839448  219.734131  2846700\n",
       "2025-01-07  220.405168  223.720867  219.892020  221.007126  3299300\n",
       "2025-01-08  220.957782  221.934719  217.918390  220.237396  2619800"
      ]
     },
     "execution_count": 2,
     "metadata": {},
     "output_type": "execute_result"
    }
   ],
   "source": [
    "import yfinance as yf\n",
    "import pandas as pd\n",
    "import matplotlib.pyplot as plt\n",
    "import warnings\n",
    "warnings.filterwarnings('ignore')\n",
    "\n",
    "ticker_code = \"IBM\"\n",
    "\n",
    "df = yf.download(ticker_code, start='2025-01-01', end='2025-06-13', group_by='ticker')\n",
    "if isinstance(df.columns, pd.MultiIndex):\n",
    "    df.columns = df.columns.get_level_values(1)\n",
    "df.head()"
   ]
  },
  {
   "cell_type": "code",
   "execution_count": 3,
   "id": "27190606",
   "metadata": {},
   "outputs": [],
   "source": [
    "from statsmodels.tsa.stattools import adfuller , kpss\n",
    "\n",
    "def adf_test(col):\n",
    "    print(f\"p-val : {adfuller(col)[1]}\")\n",
    "\n",
    "def kpss_test(col):\n",
    "    print(f\"p-val : {kpss(col , regression='c')[1]}\")"
   ]
  },
  {
   "cell_type": "code",
   "execution_count": null,
   "id": "ba60b9c6",
   "metadata": {},
   "outputs": [
    {
     "data": {
      "text/plain": [
       "Date\n",
       "2025-01-02         NaN\n",
       "2025-01-03    2.674255\n",
       "2025-01-06    0.019745\n",
       "2025-01-07    1.272995\n",
       "2025-01-08   -0.769730\n",
       "                ...   \n",
       "2025-06-06    2.010010\n",
       "2025-06-09    3.209991\n",
       "2025-06-10    4.160004\n",
       "2025-06-11    5.279999\n",
       "2025-06-12   -0.489990\n",
       "Name: Close, Length: 111, dtype: float64"
      ]
     },
     "execution_count": 4,
     "metadata": {},
     "output_type": "execute_result"
    }
   ],
   "source": [
    "#differencing       \n",
    "diff_col = df['Close'].diff()\n",
    "diff_col"
   ]
  },
  {
   "cell_type": "code",
   "execution_count": 6,
   "id": "9cab03fe",
   "metadata": {},
   "outputs": [
    {
     "name": "stdout",
     "output_type": "stream",
     "text": [
      "p-val : 1.0648434016976619e-19\n"
     ]
    }
   ],
   "source": [
    "adf_test(diff_col.dropna())"
   ]
  },
  {
   "cell_type": "code",
   "execution_count": 7,
   "id": "191eb993",
   "metadata": {},
   "outputs": [],
   "source": [
    "#transformation\n",
    "import numpy as np\n",
    "log_col = np.log(df['Close'])\n",
    "sqrl_col = np.sqrt(df['Close'])"
   ]
  },
  {
   "cell_type": "code",
   "execution_count": 8,
   "id": "a53ca6e1",
   "metadata": {},
   "outputs": [
    {
     "name": "stdout",
     "output_type": "stream",
     "text": [
      "p-val : 0.466821637037478\n"
     ]
    }
   ],
   "source": [
    "adf_test(log_col)"
   ]
  },
  {
   "cell_type": "code",
   "execution_count": 9,
   "id": "99061479",
   "metadata": {},
   "outputs": [
    {
     "name": "stdout",
     "output_type": "stream",
     "text": [
      "p-val : 0.49865553249379585\n"
     ]
    }
   ],
   "source": [
    "adf_test(sqrl_col)"
   ]
  },
  {
   "cell_type": "code",
   "execution_count": 10,
   "id": "2731fbb2",
   "metadata": {},
   "outputs": [],
   "source": [
    "#box-cox transformation\n",
    "from scipy import stats\n",
    "stat , lam = stats.boxcox(df[\"Close\"])"
   ]
  },
  {
   "cell_type": "code",
   "execution_count": 14,
   "id": "f6482f7f",
   "metadata": {},
   "outputs": [
    {
     "name": "stdout",
     "output_type": "stream",
     "text": [
      "p-val : 0.65066925335149\n"
     ]
    }
   ],
   "source": [
    "adf_test(stat)"
   ]
  },
  {
   "cell_type": "code",
   "execution_count": 16,
   "id": "7a8aefe0",
   "metadata": {},
   "outputs": [
    {
     "data": {
      "text/plain": [
       "(array([20089., 20120., 20148., 20179., 20209., 20240.]),\n",
       " [Text(20089.0, 0, '2025-01'),\n",
       "  Text(20120.0, 0, '2025-02'),\n",
       "  Text(20148.0, 0, '2025-03'),\n",
       "  Text(20179.0, 0, '2025-04'),\n",
       "  Text(20209.0, 0, '2025-05'),\n",
       "  Text(20240.0, 0, '2025-06')])"
      ]
     },
     "execution_count": 16,
     "metadata": {},
     "output_type": "execute_result"
    },
    {
     "data": {
      "image/png": "[encoded data removed]",
      "text/plain": [
       "<Figure size 640x480 with 1 Axes>"
      ]
     },
     "metadata": {},
     "output_type": "display_data"
    }
   ],
   "source": [
    "plt.plot(df.index , df[\"Close\"])\n",
    "plt.xticks(rotation = 90)"
   ]
  },
  {
   "cell_type": "code",
   "execution_count": 17,
   "id": "d1deacb0",
   "metadata": {},
   "outputs": [
    {
     "data": {
      "text/plain": [
       "111"
      ]
     },
     "execution_count": 17,
     "metadata": {},
     "output_type": "execute_result"
    }
   ],
   "source": [
    "len(df)"
   ]
  },
  {
   "cell_type": "code",
   "execution_count": 20,
   "id": "1558b0d2",
   "metadata": {},
   "outputs": [
    {
     "name": "stdout",
     "output_type": "stream",
     "text": [
      "p-val : 5.3363388743739805e-08\n"
     ]
    }
   ],
   "source": [
    "# moving average detrending\n",
    "ma = df['Close'].rolling(window = 3  , center = True).mean()\n",
    "detrend = df['Close'] - ma \n",
    "col = detrend.dropna()\n",
    "adf_test(col)"
   ]
  },
  {
   "cell_type": "code",
   "execution_count": null,
   "id": "b6794b6d",
   "metadata": {},
   "outputs": [],
   "source": []
  }
 ],
 "metadata": {
  "kernelspec": {
   "display_name": "time_env",
   "language": "python",
   "name": "python3"
  },
  "language_info": {
   "codemirror_mode": {
    "name": "ipython",
    "version": 3
   },
   "file_extension": ".py",
   "mimetype": "text/x-python",
   "name": "python",
   "nbconvert_exporter": "python",
   "pygments_lexer": "ipython3",
   "version": "3.10.16"
  }
 },
 "nbformat": 4,
 "nbformat_minor": 5
}
