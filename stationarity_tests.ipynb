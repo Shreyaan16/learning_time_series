{
 "cells": [
  {
   "cell_type": "code",
   "execution_count": 1,
   "id": "8146f184",
   "metadata": {},
   "outputs": [
    {
     "name": "stderr",
     "output_type": "stream",
     "text": [
      "[*********************100%***********************]  1 of 1 completed\n"
     ]
    },
    {
     "data": {
      "text/html": [
       "<div>\n",
       "<style scoped>\n",
       "    .dataframe tbody tr th:only-of-type {\n",
       "        vertical-align: middle;\n",
       "    }\n",
       "\n",
       "    .dataframe tbody tr th {\n",
       "        vertical-align: top;\n",
       "    }\n",
       "\n",
       "    .dataframe thead th {\n",
       "        text-align: right;\n",
       "    }\n",
       "</style>\n",
       "<table border=\"1\" class=\"dataframe\">\n",
       "  <thead>\n",
       "    <tr style=\"text-align: right;\">\n",
       "      <th>Price</th>\n",
       "      <th>Open</th>\n",
       "      <th>High</th>\n",
       "      <th>Low</th>\n",
       "      <th>Close</th>\n",
       "      <th>Volume</th>\n",
       "    </tr>\n",
       "    <tr>\n",
       "      <th>Date</th>\n",
       "      <th></th>\n",
       "      <th></th>\n",
       "      <th></th>\n",
       "      <th></th>\n",
       "      <th></th>\n",
       "    </tr>\n",
       "  </thead>\n",
       "  <tbody>\n",
       "    <tr>\n",
       "      <th>2025-01-02</th>\n",
       "      <td>218.895348</td>\n",
       "      <td>219.556512</td>\n",
       "      <td>214.730987</td>\n",
       "      <td>217.040131</td>\n",
       "      <td>2579500</td>\n",
       "    </tr>\n",
       "    <tr>\n",
       "      <th>2025-01-03</th>\n",
       "      <td>217.642083</td>\n",
       "      <td>220.711079</td>\n",
       "      <td>217.642083</td>\n",
       "      <td>219.714386</td>\n",
       "      <td>3872100</td>\n",
       "    </tr>\n",
       "    <tr>\n",
       "      <th>2025-01-06</th>\n",
       "      <td>220.059766</td>\n",
       "      <td>221.391973</td>\n",
       "      <td>217.839432</td>\n",
       "      <td>219.734116</td>\n",
       "      <td>2846700</td>\n",
       "    </tr>\n",
       "    <tr>\n",
       "      <th>2025-01-07</th>\n",
       "      <td>220.405183</td>\n",
       "      <td>223.720883</td>\n",
       "      <td>219.892035</td>\n",
       "      <td>221.007141</td>\n",
       "      <td>3299300</td>\n",
       "    </tr>\n",
       "    <tr>\n",
       "      <th>2025-01-08</th>\n",
       "      <td>220.957782</td>\n",
       "      <td>221.934719</td>\n",
       "      <td>217.918390</td>\n",
       "      <td>220.237396</td>\n",
       "      <td>2619800</td>\n",
       "    </tr>\n",
       "  </tbody>\n",
       "</table>\n",
       "</div>"
      ],
      "text/plain": [
       "Price             Open        High         Low       Close   Volume\n",
       "Date                                                               \n",
       "2025-01-02  218.895348  219.556512  214.730987  217.040131  2579500\n",
       "2025-01-03  217.642083  220.711079  217.642083  219.714386  3872100\n",
       "2025-01-06  220.059766  221.391973  217.839432  219.734116  2846700\n",
       "2025-01-07  220.405183  223.720883  219.892035  221.007141  3299300\n",
       "2025-01-08  220.957782  221.934719  217.918390  220.237396  2619800"
      ]
     },
     "execution_count": 1,
     "metadata": {},
     "output_type": "execute_result"
    }
   ],
   "source": [
    "import yfinance as yf\n",
    "import pandas as pd\n",
    "import matplotlib.pyplot as plt\n",
    "import warnings\n",
    "warnings.filterwarnings('ignore')\n",
    "\n",
    "ticker_code = \"IBM\"\n",
    "\n",
    "df = yf.download(ticker_code, start='2025-01-01', end='2025-06-13', group_by='ticker')\n",
    "if isinstance(df.columns, pd.MultiIndex):\n",
    "    df.columns = df.columns.get_level_values(1)\n",
    "df.head()"
   ]
  },
  {
   "cell_type": "code",
   "execution_count": 2,
   "id": "e2c84b28",
   "metadata": {},
   "outputs": [
    {
     "name": "stdout",
     "output_type": "stream",
     "text": [
      "ADF TEST RESULTS:\n",
      "(-1.5061127445246913, 0.5304853134293476, 0, 110, {'1%': -3.4912451337340342, '5%': -2.8881954545454547, '10%': -2.5809876033057852}, 605.8878516839918)\n"
     ]
    }
   ],
   "source": [
    "from statsmodels.tsa.stattools import adfuller\n",
    "adf_test = adfuller(df['Close'])\n",
    "\n",
    "print(\"ADF TEST RESULTS:\")\n",
    "print(adf_test)"
   ]
  },
  {
   "cell_type": "code",
   "execution_count": 4,
   "id": "71bef53c",
   "metadata": {},
   "outputs": [
    {
     "name": "stdout",
     "output_type": "stream",
     "text": [
      "KPSS TEST RESULTS: \n",
      "(0.18140322105728537, 0.022973792103517982, 6, {'10%': 0.119, '5%': 0.146, '2.5%': 0.176, '1%': 0.216})\n"
     ]
    }
   ],
   "source": [
    "from statsmodels.tsa.stattools import kpss\n",
    "kpss_test = kpss(df['Close'] , regression = 'ct')\n",
    "print(\"KPSS TEST RESULTS: \")\n",
    "print(kpss_test)"
   ]
  },
  {
   "cell_type": "code",
   "execution_count": 5,
   "id": "c46583fb",
   "metadata": {},
   "outputs": [
    {
     "data": {
      "image/png": "[encoded data removed]",
      "text/plain": [
       "<Figure size 640x480 with 1 Axes>"
      ]
     },
     "metadata": {},
     "output_type": "display_data"
    },
    {
     "name": "stdout",
     "output_type": "stream",
     "text": [
      "KS Statistic: 0.0900, P-Value: 0.3935\n",
      "Fail to reject null: Distributions are similar ⇒ Possible stationarity.\n"
     ]
    }
   ],
   "source": [
    "import numpy as np\n",
    "import pandas as pd\n",
    "from scipy.stats import ks_2samp\n",
    "import matplotlib.pyplot as plt\n",
    "\n",
    "# Generate some data (replace with your own time series)\n",
    "np.random.seed(0)\n",
    "data = np.random.normal(loc=0, scale=1, size=1000)\n",
    "\n",
    "# Split into two (or more) non-overlapping windows\n",
    "window_size = 200\n",
    "window1 = data[0:window_size]\n",
    "window2 = data[400:400+window_size]  # Later window to avoid correlation\n",
    "\n",
    "# Plot for visualization\n",
    "plt.hist(window1, bins=30, alpha=0.5, label='Window 1')\n",
    "plt.hist(window2, bins=30, alpha=0.5, label='Window 2')\n",
    "plt.legend()\n",
    "plt.title(\"Distributions in Different Time Windows\")\n",
    "plt.show()\n",
    "\n",
    "# Perform KS test\n",
    "statistic, p_value = ks_2samp(window1, window2)\n",
    "print(f\"KS Statistic: {statistic:.4f}, P-Value: {p_value:.4f}\")\n",
    "\n",
    "# Interpret result\n",
    "if p_value > 0.05:\n",
    "    print(\"Fail to reject null: Distributions are similar ⇒ Possible stationarity.\")\n",
    "else:\n",
    "    print(\"Reject null: Distributions are different ⇒ Likely non-stationarity.\")\n"
   ]
  },
  {
   "cell_type": "code",
   "execution_count": null,
   "id": "49e4a5e5",
   "metadata": {},
   "outputs": [],
   "source": []
  }
 ],
 "metadata": {
  "kernelspec": {
   "display_name": "time_env",
   "language": "python",
   "name": "python3"
  },
  "language_info": {
   "codemirror_mode": {
    "name": "ipython",
    "version": 3
   },
   "file_extension": ".py",
   "mimetype": "text/x-python",
   "name": "python",
   "nbconvert_exporter": "python",
   "pygments_lexer": "ipython3",
   "version": "3.10.16"
  }
 },
 "nbformat": 4,
 "nbformat_minor": 5
}
